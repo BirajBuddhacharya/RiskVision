{
 "cells": [
  {
   "cell_type": "code",
   "execution_count": 1,
   "metadata": {},
   "outputs": [],
   "source": [
    "import pandas as pd"
   ]
  },
  {
   "cell_type": "code",
   "execution_count": 2,
   "metadata": {},
   "outputs": [],
   "source": [
    "df = pd.read_csv(\"../../data/raw/heart_disease.csv\")"
   ]
  },
  {
   "cell_type": "code",
   "execution_count": 3,
   "metadata": {},
   "outputs": [],
   "source": [
    "df.rename(columns = {\n",
    "                     'sex': 'gender',\n",
    "                     'trestbps': 'BloodPressure',\n",
    "                     'fbs': 'avg_glucose_level', \n",
    "                     'target': 'heart_disease'\n",
    "                    }, inplace = True)"
   ]
  },
  {
   "cell_type": "code",
   "execution_count": 4,
   "metadata": {},
   "outputs": [],
   "source": [
    "df['gender'] = df['gender'].map({\n",
    "    1: 'Male', \n",
    "    0: 'Female'\n",
    "})"
   ]
  },
  {
   "cell_type": "code",
   "execution_count": 5,
   "metadata": {},
   "outputs": [],
   "source": [
    "df['cp'] = df['cp'].map({\n",
    "    0: 'No Pain',\n",
    "    1: \"Mild Pain (Non-Cardiac/Occasional)\",\n",
    "    2: \"Moderate Pain (Potentially Cardiac)\",\n",
    "    3: \"Severe Pain (Emergency/Cardiac)\",\n",
    "})"
   ]
  },
  {
   "cell_type": "code",
   "execution_count": 6,
   "metadata": {},
   "outputs": [],
   "source": [
    "df['thal'] = df['thal'].map({\n",
    "    0: \"Normal\",\n",
    "    1:\"Fixed Defect\",\n",
    "    2:\"Reversable Defect\"\n",
    "})"
   ]
  },
  {
   "cell_type": "code",
   "execution_count": 7,
   "metadata": {},
   "outputs": [],
   "source": [
    "df['ca'] = df['ca'].map({\n",
    "    0: 'Zero',\n",
    "    1: 'One',\n",
    "    2: 'Two',\n",
    "    3: 'Three',\n",
    "    4: 'Four'\n",
    "}).fillna('unknown').astype(object)"
   ]
  },
  {
   "cell_type": "code",
   "execution_count": 8,
   "metadata": {},
   "outputs": [],
   "source": [
    "df['restecg'] = df['restecg'].map({\n",
    "    0: 'Normal ECG',\n",
    "    1: 'Abnormal but Non-Specific',\n",
    "    2: 'Definite Abnormalities'\n",
    "})  "
   ]
  },
  {
   "cell_type": "code",
   "execution_count": 9,
   "metadata": {},
   "outputs": [],
   "source": [
    "df['exang'] = df['exang'].map({\n",
    "    0: 'No',\n",
    "    1: 'Yes'\n",
    "}).fillna(\"Unknown\")"
   ]
  },
  {
   "cell_type": "code",
   "execution_count": 10,
   "metadata": {},
   "outputs": [],
   "source": [
    "df.loc[df['thal'].isnull(), 'thal'] = 'Normal'"
   ]
  },
  {
   "cell_type": "code",
   "execution_count": 11,
   "metadata": {},
   "outputs": [],
   "source": [
    "df.to_csv(\"../../data/processed/heart_disease.csv\", index = False)"
   ]
  },
  {
   "cell_type": "code",
   "execution_count": null,
   "metadata": {},
   "outputs": [],
   "source": []
  }
 ],
 "metadata": {
  "kernelspec": {
   "display_name": "base",
   "language": "python",
   "name": "python3"
  },
  "language_info": {
   "codemirror_mode": {
    "name": "ipython",
    "version": 3
   },
   "file_extension": ".py",
   "mimetype": "text/x-python",
   "name": "python",
   "nbconvert_exporter": "python",
   "pygments_lexer": "ipython3",
   "version": "3.12.4"
  }
 },
 "nbformat": 4,
 "nbformat_minor": 2
}
