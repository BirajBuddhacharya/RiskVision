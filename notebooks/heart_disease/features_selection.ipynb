{
 "cells": [
  {
   "cell_type": "code",
   "execution_count": 1,
   "metadata": {},
   "outputs": [],
   "source": [
    "import os; os.chdir('../..') # changing to root directory of project\n",
    "from config import config"
   ]
  },
  {
   "cell_type": "code",
   "execution_count": 2,
   "metadata": {},
   "outputs": [],
   "source": [
    "import pandas as pd\n",
    "import pickle\n",
    "from sklearn.model_selection import train_test_split\n",
    "from sklearn.preprocessing import StandardScaler, OneHotEncoder\n",
    "from utils.save_features import save_features "
   ]
  },
  {
   "cell_type": "code",
   "execution_count": 3,
   "metadata": {},
   "outputs": [],
   "source": [
    "df = pd.read_csv('data/processed/heart_disease.csv')"
   ]
  },
  {
   "cell_type": "code",
   "execution_count": 4,
   "metadata": {},
   "outputs": [],
   "source": [
    "target = 'heart_disease'\n",
    "\n",
    "# features selections\n",
    "features = df.drop(target, axis = 1).columns"
   ]
  },
  {
   "cell_type": "code",
   "execution_count": 5,
   "metadata": {},
   "outputs": [
    {
     "name": "stdout",
     "output_type": "stream",
     "text": [
      "Starting to process columns in feature_df...\n",
      "Updating features config file\n",
      "Succesfully updated features config file\n"
     ]
    }
   ],
   "source": [
    "# saving features in json file along with their lebel and options\n",
    "save_features(df[features], 'heart_disease')"
   ]
  },
  {
   "cell_type": "code",
   "execution_count": 6,
   "metadata": {},
   "outputs": [],
   "source": [
    "# Normalizing numerical features \n",
    "# initializing standared scaler\n",
    "scaler = StandardScaler()\n",
    "\n",
    "# features to scale\n",
    "numerical_features = features\n",
    "\n",
    "# training scaler\n",
    "scaler.fit(df[numerical_features])\n",
    "\n",
    "# scaling\n",
    "df[numerical_features] = scaler.transform(df[numerical_features])\n",
    "\n",
    "# saving model \n",
    "with open('models/heart_disease/scaler.pkl', 'wb') as fp:\n",
    "    pickle.dump(scaler, fp)"
   ]
  },
  {
   "cell_type": "code",
   "execution_count": 7,
   "metadata": {},
   "outputs": [],
   "source": [
    "# spliting train test data\n",
    "X = df.drop([target], axis = 1) # features\n",
    "y = df[target] # target variable\n",
    "\n",
    "X_train, X_test, y_train, y_test = train_test_split(X, y, test_size = 0.2, random_state = 0)"
   ]
  },
  {
   "cell_type": "code",
   "execution_count": 8,
   "metadata": {},
   "outputs": [],
   "source": [
    "# saving train data\n",
    "X_train.to_csv('data/model_training/heart_disease/X_train.csv', index=False)\n",
    "X_test.to_csv('data/model_training/heart_disease/X_test.csv', index=False)\n",
    "y_train.to_csv('data/model_training/heart_disease/y_train.csv', index=False)\n",
    "y_test.to_csv('data/model_training/heart_disease/y_test.csv', index=False)\n"
   ]
  }
 ],
 "metadata": {
  "kernelspec": {
   "display_name": "base",
   "language": "python",
   "name": "python3"
  },
  "language_info": {
   "codemirror_mode": {
    "name": "ipython",
    "version": 3
   },
   "file_extension": ".py",
   "mimetype": "text/x-python",
   "name": "python",
   "nbconvert_exporter": "python",
   "pygments_lexer": "ipython3",
   "version": "3.12.4"
  }
 },
 "nbformat": 4,
 "nbformat_minor": 2
}
