{
 "cells": [
  {
   "cell_type": "code",
   "execution_count": 17,
   "id": "5595a35a-d2b4-4d1d-8577-057ed8a47a88",
   "metadata": {},
   "outputs": [],
   "source": [
    "import pandas as pd \n",
    "from sklearn.model_selection import train_test_split \n",
    "from sklearn.preprocessing import StandardScaler, OneHotEncoder"
   ]
  },
  {
   "cell_type": "code",
   "execution_count": 18,
   "id": "262efbaa-af0d-416c-b47f-4cfd75e636b5",
   "metadata": {},
   "outputs": [],
   "source": [
    "df = pd.read_csv(\"../data/raw/healthcare-dataset-stroke-data.csv\")"
   ]
  },
  {
   "cell_type": "code",
   "execution_count": 19,
   "id": "13e66e85-36a9-48a8-ae7b-aa075aa08a4f",
   "metadata": {},
   "outputs": [
    {
     "name": "stderr",
     "output_type": "stream",
     "text": [
      "C:\\Users\\admin\\AppData\\Local\\Temp\\ipykernel_5400\\1525242985.py:2: FutureWarning: A value is trying to be set on a copy of a DataFrame or Series through chained assignment using an inplace method.\n",
      "The behavior will change in pandas 3.0. This inplace method will never work because the intermediate object on which we are setting values always behaves as a copy.\n",
      "\n",
      "For example, when doing 'df[col].method(value, inplace=True)', try using 'df.method({col: value}, inplace=True)' or df[col] = df[col].method(value) instead, to perform the operation inplace on the original object.\n",
      "\n",
      "\n",
      "  df['bmi'].fillna(df['bmi'].mean(), inplace = True)\n"
     ]
    }
   ],
   "source": [
    "# filling nan value of bmi with mean \n",
    "df['bmi'].fillna(df['bmi'].mean(), inplace = True)"
   ]
  },
  {
   "cell_type": "code",
   "execution_count": 20,
   "id": "6956a2f6-2bea-4fc4-a7c1-50e8b96f88e1",
   "metadata": {},
   "outputs": [],
   "source": [
    "# encoding categorical datas\n",
    "# initializing encoder\n",
    "encoder = OneHotEncoder(sparse_output = False)\n",
    "\n",
    "# columns to encode\n",
    "categorical_columns = ['gender', 'ever_married', 'work_type', 'Residence_type', 'smoking_status']\n",
    "\n",
    "# encoding\n",
    "encoded_columns = pd.DataFrame(encoder.fit_transform(df[categorical_columns]))\n",
    "\n",
    "# naming columns\n",
    "encoded_columns.columns = encoder.get_feature_names_out(categorical_columns)\n",
    "\n",
    "# concating with original dataframe\n",
    "df = pd.concat([df.drop(categorical_columns, axis = 1), encoded_columns], axis = 1)"
   ]
  },
  {
   "cell_type": "code",
   "execution_count": 21,
   "id": "ee980196-1297-43e8-96f4-b2232fb482f4",
   "metadata": {},
   "outputs": [],
   "source": [
    "# Normalizing numerical features \n",
    "# initializing standared scaler\n",
    "scaler = StandardScaler()\n",
    "\n",
    "# features to scale\n",
    "numerical_features = ['age', 'avg_glucose_level', 'bmi']\n",
    "\n",
    "# scaling\n",
    "df[numerical_features] = scaler.fit_transform(df[numerical_features])"
   ]
  },
  {
   "cell_type": "code",
   "execution_count": 22,
   "id": "484bc533-fc66-483c-8366-8e9bc4c89388",
   "metadata": {},
   "outputs": [],
   "source": [
    "# spliting train test data\n",
    "X = df.drop(['stroke', 'id'], axis = 1) # features\n",
    "y = df['stroke'] # target variable\n",
    "\n",
    "X_train, X_test, y_train, y_test = train_test_split(X, y, test_size = 0.2, random_state = 0)"
   ]
  },
  {
   "cell_type": "code",
   "execution_count": 23,
   "id": "b38f1e80-a290-4be5-a20a-c4fa2a0b2ec5",
   "metadata": {},
   "outputs": [],
   "source": [
    "# saving train data\n",
    "X_train.to_csv('../data/model_training/X_train.csv', index=False)\n",
    "X_test.to_csv('../data/model_training/X_test.csv', index=False)\n",
    "y_train.to_csv('../data/model_training/y_train.csv', index=False)\n",
    "y_test.to_csv('../data/model_training/y_test.csv', index=False)"
   ]
  },
  {
   "cell_type": "code",
   "execution_count": null,
   "id": "5b52136a-355a-4450-8bc9-1efff5589a6f",
   "metadata": {},
   "outputs": [],
   "source": []
  }
 ],
 "metadata": {
  "kernelspec": {
   "display_name": "Python 3 (ipykernel)",
   "language": "python",
   "name": "python3"
  },
  "language_info": {
   "codemirror_mode": {
    "name": "ipython",
    "version": 3
   },
   "file_extension": ".py",
   "mimetype": "text/x-python",
   "name": "python",
   "nbconvert_exporter": "python",
   "pygments_lexer": "ipython3",
   "version": "3.12.4"
  }
 },
 "nbformat": 4,
 "nbformat_minor": 5
}
