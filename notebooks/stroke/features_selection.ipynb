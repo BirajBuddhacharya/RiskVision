{
 "cells": [
  {
   "cell_type": "code",
   "execution_count": 1,
   "id": "8a97b148",
   "metadata": {},
   "outputs": [],
   "source": [
    "import os; os.chdir('../..') # changing to root directory of project\n",
    "from config import config"
   ]
  },
  {
   "cell_type": "code",
   "execution_count": 2,
   "id": "5595a35a-d2b4-4d1d-8577-057ed8a47a88",
   "metadata": {},
   "outputs": [],
   "source": [
    "import pandas as pd \n",
    "import pickle\n",
    "from sklearn.model_selection import train_test_split \n",
    "from sklearn.preprocessing import StandardScaler, OneHotEncoder\n",
    "from utils.save_features import save_features"
   ]
  },
  {
   "cell_type": "code",
   "execution_count": 3,
   "id": "262efbaa-af0d-416c-b47f-4cfd75e636b5",
   "metadata": {},
   "outputs": [],
   "source": [
    "df = pd.read_csv(\"data/processed/stroke.csv\")"
   ]
  },
  {
   "cell_type": "code",
   "execution_count": 4,
   "id": "aa0d97f9",
   "metadata": {},
   "outputs": [
    {
     "data": {
      "text/plain": [
       "Index(['gender', 'age', 'hypertension', 'heart_disease', 'ever_married',\n",
       "       'work_type', 'Residence_type', 'avg_glucose_level', 'bmi',\n",
       "       'smoking_status'],\n",
       "      dtype='object')"
      ]
     },
     "execution_count": 4,
     "metadata": {},
     "output_type": "execute_result"
    }
   ],
   "source": [
    "# Feature selecting\n",
    "features = df.drop(['stroke'], axis = 1).columns\n",
    "features"
   ]
  },
  {
   "cell_type": "code",
   "execution_count": 5,
   "id": "8c6ee4d5",
   "metadata": {},
   "outputs": [
    {
     "name": "stdout",
     "output_type": "stream",
     "text": [
      "Starting to process columns in feature_df...\n",
      "features config file doesnt exist creating new\n",
      "Updating features config file\n",
      "Succesfully updated features config file\n"
     ]
    }
   ],
   "source": [
    "# saving features in json file\n",
    "save_features(df[features], 'stroke')"
   ]
  },
  {
   "cell_type": "code",
   "execution_count": 6,
   "id": "6956a2f6-2bea-4fc4-a7c1-50e8b96f88e1",
   "metadata": {},
   "outputs": [],
   "source": [
    "# encoding categorical datas\n",
    "# initializing encoder\n",
    "encoder = OneHotEncoder(sparse_output = False)\n",
    "\n",
    "# columns to encode\n",
    "categorical_columns = ['gender', 'ever_married', 'work_type', 'Residence_type', 'smoking_status']\n",
    "\n",
    "# training encoder \n",
    "encoder.fit(df[categorical_columns])\n",
    "\n",
    "# encoding\n",
    "encoded_columns = pd.DataFrame(encoder.transform(df[categorical_columns]))\n",
    "\n",
    "# naming columns\n",
    "encoded_columns.columns = encoder.get_feature_names_out(categorical_columns)\n",
    "\n",
    "# concating with original dataframe\n",
    "df = pd.concat([df.drop(categorical_columns, axis = 1), encoded_columns], axis = 1)\n",
    "\n",
    "# saving encoder to encode data from user\n",
    "with open('models/stroke/encoder.pkl', 'wb') as fp: \n",
    "    pickle.dump(encoder, fp)"
   ]
  },
  {
   "cell_type": "code",
   "execution_count": 7,
   "id": "ee980196-1297-43e8-96f4-b2232fb482f4",
   "metadata": {},
   "outputs": [],
   "source": [
    "# Normalizing numerical features \n",
    "# initializing standared scaler\n",
    "scaler = StandardScaler()\n",
    "\n",
    "# features to scale\n",
    "numerical_features = ['age', 'avg_glucose_level', 'bmi']\n",
    "\n",
    "# training scaler\n",
    "scaler.fit(df[numerical_features])\n",
    "\n",
    "# scaling\n",
    "df[numerical_features] = scaler.transform(df[numerical_features])\n",
    "\n",
    "# saving model \n",
    "with open('models/stroke/scaler.pkl', 'wb') as fp:\n",
    "    pickle.dump(scaler, fp)"
   ]
  },
  {
   "cell_type": "code",
   "execution_count": 9,
   "id": "484bc533-fc66-483c-8366-8e9bc4c89388",
   "metadata": {},
   "outputs": [],
   "source": [
    "# spliting train test data\n",
    "X = df.drop(['stroke'], axis = 1) # features\n",
    "y = df['stroke'] # target variable\n",
    "\n",
    "X_train, X_test, y_train, y_test = train_test_split(X, y, test_size = 0.2, random_state = 0)"
   ]
  },
  {
   "cell_type": "code",
   "execution_count": 10,
   "id": "b38f1e80-a290-4be5-a20a-c4fa2a0b2ec5",
   "metadata": {},
   "outputs": [],
   "source": [
    "# saving train data\n",
    "X_train.to_csv('data/model_training/stroke/X_train.csv', index=False)\n",
    "X_test.to_csv('data/model_training/stroke/X_test.csv', index=False)\n",
    "y_train.to_csv('data/model_training/stroke/y_train.csv', index=False)\n",
    "y_test.to_csv('data/model_training/stroke/y_test.csv', index=False)"
   ]
  }
 ],
 "metadata": {
  "kernelspec": {
   "display_name": "Python 3 (ipykernel)",
   "language": "python",
   "name": "python3"
  },
  "language_info": {
   "codemirror_mode": {
    "name": "ipython",
    "version": 3
   },
   "file_extension": ".py",
   "mimetype": "text/x-python",
   "name": "python",
   "nbconvert_exporter": "python",
   "pygments_lexer": "ipython3",
   "version": "3.12.4"
  }
 },
 "nbformat": 4,
 "nbformat_minor": 5
}
